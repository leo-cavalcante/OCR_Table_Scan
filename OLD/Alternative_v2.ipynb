{
 "cells": [
  {
   "cell_type": "raw",
   "id": "d7505061-99e3-4287-9fd6-632765442f5d",
   "metadata": {},
   "source": [
    "pip install opencv-python"
   ]
  },
  {
   "cell_type": "raw",
   "id": "baf9f85b-b6c9-4229-b9ec-a9c63e27865f",
   "metadata": {
    "scrolled": true
   },
   "source": [
    "pip install python-csv"
   ]
  },
  {
   "cell_type": "raw",
   "id": "d8d98148-1d7a-4a87-b95c-0c428050b36b",
   "metadata": {
    "scrolled": true
   },
   "source": [
    "conda install opencv-python"
   ]
  },
  {
   "cell_type": "raw",
   "id": "5e992566-6dcd-46ae-877e-5c9070559560",
   "metadata": {
    "scrolled": true
   },
   "source": [
    "conda install -c conda-forge cv2"
   ]
  },
  {
   "cell_type": "raw",
   "id": "7d40f7a9-69c0-4907-80c0-1bcb9152b201",
   "metadata": {},
   "source": [
    "conda install CSV"
   ]
  },
  {
   "cell_type": "raw",
   "id": "d36c9bcd-1d27-4d83-888c-72317a18361d",
   "metadata": {
    "scrolled": true
   },
   "source": [
    "python3 -m pip install --upgrade pip \n",
    "python3 -m pip install opencv-python\n",
    "python3 -m pip install opencv-python-headless\n",
    "python3 -m pip install opencv-contrib-python-headless\n",
    "python3 -m pip install --no-binary opencv-python opencv-python\n",
    "python3 -m pip install --no-binary :all: opencv-python"
   ]
  },
  {
   "cell_type": "code",
   "execution_count": null,
   "id": "2c9dd892-678f-4e98-956b-06167257b099",
   "metadata": {},
   "outputs": [],
   "source": [
    "import os\n",
    "from pathlib import Path\n",
    "from datetime import datetime"
   ]
  },
  {
   "cell_type": "code",
   "execution_count": null,
   "id": "2f01bc2b-6319-4641-b30b-c5cec8fd53f3",
   "metadata": {},
   "outputs": [],
   "source": [
    "from importlib import *"
   ]
  },
  {
   "cell_type": "code",
   "execution_count": null,
   "id": "56423f9b-a284-478f-9f4a-05dccff457ba",
   "metadata": {},
   "outputs": [],
   "source": [
    "import cv2\n",
    "import numpy as np\n",
    "import pandas as pd\n",
    "import matplotlib.pyplot as plt\n",
    "import csv"
   ]
  },
  {
   "cell_type": "code",
   "execution_count": null,
   "id": "187f7189-bd27-41eb-a0fa-8a217daa16be",
   "metadata": {},
   "outputs": [],
   "source": [
    "try:\n",
    "    from PIL import Image\n",
    "except Importerror:\n",
    "    import Image"
   ]
  },
  {
   "cell_type": "raw",
   "id": "9d72541a-cfd1-4c5d-8aac-8d9156003b18",
   "metadata": {},
   "source": [
    "!pip install pytesseract"
   ]
  },
  {
   "cell_type": "code",
   "execution_count": null,
   "id": "ab9572cb-2b73-41c0-bf48-7afcf0c37734",
   "metadata": {},
   "outputs": [],
   "source": [
    "# import tesseract-ocr\n",
    "import pytesseract"
   ]
  },
  {
   "cell_type": "code",
   "execution_count": null,
   "id": "579f97ea-22ba-4098-8f64-93aa967d48a4",
   "metadata": {},
   "outputs": [],
   "source": [
    "#read your file\n",
    "desktop_path = str(Path.home() / \"Desktop\")\n",
    "os.chdir(desktop_path)\n",
    "\n",
    "file=r'excel-no-table.jpg'\n",
    "img = cv2.imread(file,0)\n",
    "img.shape"
   ]
  },
  {
   "cell_type": "raw",
   "id": "27fb6c8b-c1ca-4606-a134-c4c1e20b047a",
   "metadata": {},
   "source": [
    "!pip install importlib"
   ]
  },
  {
   "cell_type": "raw",
   "id": "1cf9f051-a9de-4372-8b71-dee8e3c2c9db",
   "metadata": {},
   "source": [
    "!pip3 install 'google-colab'\n",
    "# conda install -c conda-forge google-colab"
   ]
  },
  {
   "cell_type": "raw",
   "id": "afd4f01a-cf5c-46a3-9e54-c9da90cbcea0",
   "metadata": {},
   "source": [
    "pip install pathtools==0.1.2      "
   ]
  },
  {
   "cell_type": "raw",
   "id": "3944b829-7e36-4cbb-9876-7e76aba6cd36",
   "metadata": {},
   "source": [
    "pip install --upgrade micropy-cli"
   ]
  },
  {
   "cell_type": "raw",
   "id": "8e47fc1a-613c-4717-810c-0129b669239e",
   "metadata": {},
   "source": [
    "pip install --upgrade --pre micropy-cli"
   ]
  },
  {
   "cell_type": "code",
   "execution_count": null,
   "id": "aa54ea76-fc35-413c-9aa8-08529cb7282a",
   "metadata": {},
   "outputs": [],
   "source": [
    "# from google.colab.patches import cv2_imshow\n",
    "# file=r'Image.webp'\n",
    "cv2.imshow('name', img)"
   ]
  },
  {
   "cell_type": "code",
   "execution_count": null,
   "id": "f7b25993-22ba-46f0-aae3-626c69520cdb",
   "metadata": {},
   "outputs": [],
   "source": [
    "#thresholding the image to a binary image\n",
    "thresh, img_bin = cv2.threshold(img, 128, 255, cv2.THRESH_BINARY | cv2.THRESH_OTSU)"
   ]
  },
  {
   "cell_type": "code",
   "execution_count": null,
   "id": "31a4f334-7477-43a1-badf-2a00b44dfdb1",
   "metadata": {},
   "outputs": [],
   "source": [
    "#inverting the image\n",
    "img_bin = 255-img_bin\n",
    "cv2.imwrite('cv_inverted.png',img_bin)"
   ]
  },
  {
   "cell_type": "code",
   "execution_count": null,
   "id": "8e483711-2efa-4586-ae93-27ae570c3569",
   "metadata": {},
   "outputs": [],
   "source": [
    "#Plotting the image to see the output\n",
    "plotting = plt.imshow(img_bin, cmap='gray')\n",
    "plt.show()"
   ]
  },
  {
   "cell_type": "code",
   "execution_count": null,
   "id": "342905b5-53b9-446e-9782-5b2f43f247a1",
   "metadata": {},
   "outputs": [],
   "source": [
    "# countcol(width) of kernel as 100th of total width\n",
    "kernel_len = np.array(img).shape[1]//10"
   ]
  },
  {
   "cell_type": "code",
   "execution_count": null,
   "id": "82b5f95b-fc90-49b5-b9c1-ec79a254096d",
   "metadata": {},
   "outputs": [],
   "source": [
    "# Defining a vertical kernel to detect all vertical lines of image\n",
    "ver_kernel = cv2.getStructuringElement(cv2.MORPH_RECT, (1, kernel_len))"
   ]
  },
  {
   "cell_type": "code",
   "execution_count": null,
   "id": "5aede477-2e3d-46df-a4ed-01149b5b34b3",
   "metadata": {},
   "outputs": [],
   "source": [
    "# Defining a horizontal kernel to detect all horizontal lines of image\n",
    "hor_kernel = cv2.getStructuringElement(cv2.MORPH_RECT, (kernel_len, 1))"
   ]
  },
  {
   "cell_type": "code",
   "execution_count": null,
   "id": "5efec8f3-1745-4bc7-ac23-36d2827d0f4f",
   "metadata": {},
   "outputs": [],
   "source": [
    "# A kernel of 2x2\n",
    "kernel = cv2.getStructuringElement(cv2.MORPH_RECT, (2, 2))"
   ]
  },
  {
   "cell_type": "code",
   "execution_count": null,
   "id": "055c43f8-d340-4df5-ba3d-2033c6de45c8",
   "metadata": {},
   "outputs": [],
   "source": [
    "#Use vertical kernel to detect and save the vertical lines in a jpg\n",
    "image_1 = cv2.erode(img_bin, ver_kernel, iterations=3)\n",
    "vertical_lines = cv2.dilate(image_1, ver_kernel, iterations=3)\n",
    "cv2.imwrite(\"vertical.jpg\", vertical_lines)"
   ]
  },
  {
   "cell_type": "code",
   "execution_count": null,
   "id": "7cbda9d9-23c4-4395-b065-c212f6a21c08",
   "metadata": {},
   "outputs": [],
   "source": [
    "#Plot the generated image\n",
    "plotting = plt.imshow(image_1, cmap='gray')\n",
    "plt.show()"
   ]
  },
  {
   "cell_type": "code",
   "execution_count": null,
   "id": "3281b491-81ef-4a2a-88a4-7a00c96563ee",
   "metadata": {},
   "outputs": [],
   "source": [
    "#Use horizontal kernel to detect and save the horizontal lines in a jpg\n",
    "image_2 = cv2.erode(img_bin, hor_kernel, iterations=3)\n",
    "horizontal_lines = cv2.dilate(image_2, hor_kernel, iterations=3)\n",
    "cv2. imwrite(\"horizontal.jpg\", horizontal_lines)"
   ]
  },
  {
   "cell_type": "code",
   "execution_count": null,
   "id": "aa1a5273-9988-443b-95e0-2a568c420b76",
   "metadata": {},
   "outputs": [],
   "source": [
    "#Plot the generated image\n",
    "plotting = plt.imshow(image_2, cmap='gray')\n",
    "plt.show()"
   ]
  },
  {
   "cell_type": "code",
   "execution_count": null,
   "id": "881a6441-4d44-458c-bc02-3d805cbdf5d5",
   "metadata": {},
   "outputs": [],
   "source": [
    "# Combine horizontal and vertical lines in a new third image, with both having same weight.\n",
    "img_vh = cv2.addWeighted(vertical_lines, 0.5, horizontal_lines, 0.5, 0.0)\n",
    "plt.show()"
   ]
  },
  {
   "cell_type": "code",
   "execution_count": null,
   "id": "cdeedaf9-6af1-4b38-9d11-c3fa44cfb961",
   "metadata": {},
   "outputs": [],
   "source": [
    "#Eroding and thesholding the image\n",
    "img_h = cv2.erode(~img_vh, kernel, iterations=2)\n",
    "thresh, img_h = cv2.threshold(img_vh, 128, 255, cv2.THRESH_BINARY | cv2.THRESH_OTSU)\n",
    "cv2.imwrite(\"img_vh.jpg\", img_vh)\n",
    "bitxor = cv2.bitwise_xor(img, img_vh)\n",
    "bitnot = cv2.bitwise_not(bitxor)\n",
    "\n",
    "#Plotting the generated image\n",
    "plotting = plt.imshow(bitnot, cmap='gray')\n",
    "plt.show()"
   ]
  },
  {
   "cell_type": "code",
   "execution_count": null,
   "id": "42f4f407-3521-4d5e-9382-4515c07088e6",
   "metadata": {},
   "outputs": [],
   "source": [
    "# Detect contours for following box detection\n",
    "contours, hierarchy = cv2.findContours(img_vh, cv2.RETR_TREE, cv2.CHAIN_APPROX_SIMPLE)"
   ]
  },
  {
   "cell_type": "code",
   "execution_count": null,
   "id": "fd8cc6b4-bba4-47d0-b252-404b31137fcf",
   "metadata": {},
   "outputs": [],
   "source": [
    "def sort_contours(cnts, method=\"left-to-right\"):\n",
    "    # initialize the reverse flag and sort index\n",
    "    reverse = False\n",
    "    i = 0\n",
    "    \n",
    "    # handle if we need to sort in reverse\n",
    "    # if method == \"right-to-left\" or method == \"bottom-to-top\":\n",
    "    if method == \"right-to-left\" or method == \"bottom-to-top\":\n",
    "        reverse = True\n",
    "    \n",
    "    # handle if we are sorting against the y-coordinate rather than the x-coordinate of the bounding box\n",
    "    # if method == \"top-to-bottom\" or method == \"bottom-to-top\":\n",
    "    if method == \"top-to-bottom\" or method == \"left-to-right\":\n",
    "        i = 1\n",
    "    \n",
    "    # construct the list of bounding boxes and sort them from top to bottom\n",
    "    boundingBoxes = [cv2.boundingRect(c) for c in cnts]\n",
    "    (cnts, boundingBoxes) = zip(*sorted(zip(cnts, boundingBoxes), key=lambda b:b[1][i], reverse=reverse))\n",
    "    \n",
    "    # return the list of sorted contours and bounding boxes\n",
    "    return (cnts, boundingBoxes)"
   ]
  },
  {
   "cell_type": "code",
   "execution_count": null,
   "id": "b4e12908-a8aa-4f40-bde8-60d2c622903e",
   "metadata": {},
   "outputs": [],
   "source": [
    "# Sort all the contours by top to bottom.\n",
    "contours, boundingBoxes = sort_contours(contours, method=\"top-to-bottom\")\n",
    "\n",
    "#Creating a list of heights for all detected boxes\n",
    "heights = [boundingBoxes[i][3] for i in range(len(boundingBoxes))]\n",
    "\n",
    "#Get mean of heights\n",
    "mean = np.mean(heights)\n",
    "\n",
    "#Create list box to store all boxes in\n",
    "box = []"
   ]
  },
  {
   "cell_type": "code",
   "execution_count": null,
   "id": "c2195116-1715-4c11-9026-1b89bdf872e2",
   "metadata": {},
   "outputs": [],
   "source": [
    "mean"
   ]
  },
  {
   "cell_type": "code",
   "execution_count": null,
   "id": "8d685570-bc9b-4dc1-b35e-5837f6084cc3",
   "metadata": {},
   "outputs": [],
   "source": [
    "# Get position (x,y), width and height for every contour and show the contour on image\n",
    "for c in contours:\n",
    "    x, y, w, h = cv2.boundingRect(c)\n",
    "    if (w<1000 and h<500):\n",
    "        image = cv2.rectangle(img, (x,y),(x+w,y+h), (0,255,0) ,2)\n",
    "        box.append([x,y,w,h])\n",
    "\n",
    "plotting = plt.imshow(img_bin, cmap='gray')\n",
    "plt.show()"
   ]
  },
  {
   "cell_type": "code",
   "execution_count": null,
   "id": "9ba146c6-d59f-4375-b85f-7b377d3f597a",
   "metadata": {},
   "outputs": [],
   "source": [
    "#Creating two lists to define row and column in which cell is located\n",
    "row=[]\n",
    "column=[]\n",
    "j=0\n",
    "\n",
    "box"
   ]
  },
  {
   "cell_type": "code",
   "execution_count": null,
   "id": "11d7976f-bc57-44a0-9e3c-550a3a1d01d8",
   "metadata": {},
   "outputs": [],
   "source": [
    "#Sorting the boxes to their respective row and column\n",
    "for i in range(len(box)):\n",
    "    \n",
    "    if(i==0):\n",
    "        column.append(box[i])\n",
    "        previous=box[i]\n",
    "        \n",
    "    else:\n",
    "        if(box[i][1]<=previous[1]+mean/2):\n",
    "            column.append(box[i])\n",
    "            previous=box[i]\n",
    "        \n",
    "            if(i==len(box)-1):\n",
    "                row.append(column)\n",
    "        \n",
    "        else:\n",
    "            row.append(column)\n",
    "            column=[]\n",
    "            previous = box[i]\n",
    "            column.append(box[i])\n",
    "\n",
    "print(column)\n",
    "print(row)"
   ]
  },
  {
   "cell_type": "code",
   "execution_count": null,
   "id": "b18efd0e-f30f-4fe5-a4d5-8a9ec238ba3d",
   "metadata": {},
   "outputs": [],
   "source": [
    "#calculating maximum number of cells\n",
    "countcol = 0\n",
    "for i in range(len(row)):\n",
    "    countcol = len(row[i])\n",
    "    if countcol > countcol:\n",
    "        countcol = countcol\n",
    "    # center = [int(row[i][j][0]+row[i][j][2]/2) for j in range(len(row[i])) if row[0]]"
   ]
  },
  {
   "cell_type": "code",
   "execution_count": null,
   "id": "1fb77b5c-14c3-4b68-97ba-908f1a701925",
   "metadata": {},
   "outputs": [],
   "source": [
    "#Retrieving the center of each column\n",
    "center = [int(row[i][j][0]+row[i][j][2]/2) for j in range(len(row[i])) if row[0]]\n",
    "\n",
    "center = np.array(center)\n",
    "center.sort()\n",
    "print(center)"
   ]
  },
  {
   "cell_type": "code",
   "execution_count": null,
   "id": "29655e12-6a7a-42a2-9f7f-2533a88b8766",
   "metadata": {},
   "outputs": [],
   "source": [
    "#Regarding the distance to the columns center, the boxes are arranged in respective order\n",
    "finalboxes = []\n",
    "for i in range(len(row)):\n",
    "    lis=[]\n",
    "\n",
    "    for k in range(countcol):\n",
    "        lis.append([])\n",
    "    \n",
    "    for j in range(len(row[i])):\n",
    "        diff = abs(center-(row[i][j][0]+row[i][j][2]/4))\n",
    "        minimum = min(diff)\n",
    "        indexing = list(diff).index(minimum)\n",
    "        lis[indexing].append(row[i][j])\n",
    "\n",
    "    finalboxes.append(lis)"
   ]
  },
  {
   "cell_type": "code",
   "execution_count": null,
   "id": "67252465-21bf-4e20-8b53-4ebd1278c4a2",
   "metadata": {},
   "outputs": [],
   "source": [
    "#from every single image-based cell/box the strings are extracted via pytesseract and stored in a list outer=[]\n",
    "outer = []\n",
    "for i in range(len(finalboxes)):\n",
    "    for j in range(len(finalboxes[i])):\n",
    "        inner=''\n",
    "        \n",
    "        if(len(finalboxes[i][j])==0):\n",
    "            outer.append(' ')\n",
    "        \n",
    "        else:\n",
    "            for k in range(len(finalboxes[i][j])):\n",
    "                y,x,w,h = finalboxes[i][j][k][0], finalboxes[i][j][k][1], finalboxes[i][j][k][2], finalboxes[i][j][k][3]\n",
    "                finalimg = bitnot[x:x+h, y:y+w]\n",
    "                kernel = cv2.getStructuringElement(cv2.MORPH_RECT, (2, 1))\n",
    "                border = cv2.copyMakeBorder(finalimg, 2,2,2,2, cv2.BORDER_CONSTANT, value= [255,255])\n",
    "                resizing = cv2.resize(border, None, fx=2, fy=2, interpolation=cv2.INTER_CUBIC)\n",
    "                dilation = cv2.dilate(resizing, kernel, iterations=2)\n",
    "                erosion = cv2.erode(dilation, kernel, iterations=2)\n",
    "                \n",
    "                out = pytesseract.image_to_string(erosion)\n",
    "                \n",
    "                if(len(out)==0):\n",
    "                    out = pytesseract.image_to_string(erosion, config='--psm 4')\n",
    "                inner = inner + \" \" + out\n",
    "            outer.append(inner)\n",
    "            \n",
    "#Creating a dataframe of the generated OCR list\n",
    "arr = np.array(outer)\n",
    "\n",
    "dataframe = pd.DataFrame(arr.reshape(len(row), countcol))\n",
    "\n",
    "data = dataframe.style.set_properties(align=\"left\")"
   ]
  },
  {
   "cell_type": "code",
   "execution_count": null,
   "id": "b1f275c8-06be-4acc-9e2a-e5e2caae6a68",
   "metadata": {},
   "outputs": [],
   "source": [
    "# Converting it in a excel-file\n",
    "\n",
    "datetime_str = datetime.today().strftime('%Y-%m-%d at %H.%M.%S')\n",
    "\n",
    "# data.to_excel('/Users/leonardo.cavalcante/Desktop/' + datetime_str + '.xlsx')"
   ]
  },
  {
   "cell_type": "code",
   "execution_count": null,
   "id": "4588b476-da55-4e49-a8a0-d5440ae0f93c",
   "metadata": {},
   "outputs": [],
   "source": [
    "dataframe.columns"
   ]
  },
  {
   "cell_type": "code",
   "execution_count": null,
   "id": "818edbc5-5e26-4471-ac4d-a6dfd8fbb9f4",
   "metadata": {},
   "outputs": [],
   "source": [
    "print(dataframe)"
   ]
  }
 ],
 "metadata": {
  "kernelspec": {
   "display_name": "Python [conda env:base] *",
   "language": "python",
   "name": "conda-base-py"
  },
  "language_info": {
   "codemirror_mode": {
    "name": "ipython",
    "version": 3
   },
   "file_extension": ".py",
   "mimetype": "text/x-python",
   "name": "python",
   "nbconvert_exporter": "python",
   "pygments_lexer": "ipython3",
   "version": "3.12.2"
  }
 },
 "nbformat": 4,
 "nbformat_minor": 5
}
