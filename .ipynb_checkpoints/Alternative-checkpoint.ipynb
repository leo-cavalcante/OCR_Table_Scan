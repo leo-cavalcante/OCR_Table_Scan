{
 "cells": [
  {
   "cell_type": "code",
   "execution_count": 21,
   "id": "c6592cd6-0201-4e3a-bea5-c62cb4c82f87",
   "metadata": {},
   "outputs": [
    {
     "ename": "SyntaxError",
     "evalue": "invalid syntax (429665343.py, line 1)",
     "output_type": "error",
     "traceback": [
      "\u001b[0;36m  Cell \u001b[0;32mIn[21], line 1\u001b[0;36m\u001b[0m\n\u001b[0;31m    python3 -m venv /path/to/venv/\u001b[0m\n\u001b[0m               ^\u001b[0m\n\u001b[0;31mSyntaxError\u001b[0m\u001b[0;31m:\u001b[0m invalid syntax\n"
     ]
    }
   ],
   "source": [
    "python3 -m venv /path/to/venv/"
   ]
  },
  {
   "cell_type": "code",
   "execution_count": 19,
   "id": "bf05e9ae-1fc6-410f-b4cd-29d0cfbc62bc",
   "metadata": {},
   "outputs": [
    {
     "ename": "SyntaxError",
     "evalue": "invalid syntax (2567840548.py, line 1)",
     "output_type": "error",
     "traceback": [
      "\u001b[0;36m  Cell \u001b[0;32mIn[19], line 1\u001b[0;36m\u001b[0m\n\u001b[0;31m    source venv /path/to/venv/bin/activate/\u001b[0m\n\u001b[0m           ^\u001b[0m\n\u001b[0;31mSyntaxError\u001b[0m\u001b[0;31m:\u001b[0m invalid syntax\n"
     ]
    }
   ],
   "source": [
    "source venv /path/to/venv/bin/activate/"
   ]
  },
  {
   "cell_type": "code",
   "execution_count": 7,
   "id": "e9ff4908-930a-4a4f-b12c-1b43e2ddcd22",
   "metadata": {},
   "outputs": [
    {
     "name": "stdout",
     "output_type": "stream",
     "text": [
      "Requirement already satisfied: opencv-python in /opt/anaconda3/lib/python3.12/site-packages (4.11.0.86)\n",
      "Requirement already satisfied: numpy>=1.21.2 in /opt/anaconda3/lib/python3.12/site-packages (from opencv-python) (1.26.4)\n",
      "Note: you may need to restart the kernel to use updated packages.\n"
     ]
    }
   ],
   "source": [
    "pip install opencv-python"
   ]
  },
  {
   "cell_type": "code",
   "execution_count": 5,
   "id": "bdab4a48-3f42-4d38-9538-7d967f044c0c",
   "metadata": {},
   "outputs": [
    {
     "name": "stdout",
     "output_type": "stream",
     "text": [
      "Collecting python-csv\n",
      "  Using cached python-csv-0.0.13.tar.gz (26 kB)\n",
      "  Preparing metadata (setup.py) ... \u001b[?25ldone\n",
      "\u001b[?25hCollecting argparse (from python-csv)\n",
      "  Using cached argparse-1.4.0-py2.py3-none-any.whl.metadata (2.8 kB)\n",
      "Requirement already satisfied: numpy in /opt/anaconda3/lib/python3.12/site-packages (from python-csv) (1.26.4)\n",
      "Requirement already satisfied: pandas in /opt/anaconda3/lib/python3.12/site-packages (from python-csv) (2.2.2)\n",
      "Requirement already satisfied: matplotlib in /opt/anaconda3/lib/python3.12/site-packages (from python-csv) (3.9.2)\n",
      "Collecting xlrd (from python-csv)\n",
      "  Using cached xlrd-2.0.1-py2.py3-none-any.whl.metadata (3.4 kB)\n",
      "Collecting xmltodict (from python-csv)\n",
      "  Using cached xmltodict-0.14.2-py2.py3-none-any.whl.metadata (8.0 kB)\n",
      "Collecting demjson (from python-csv)\n",
      "  Using cached demjson-2.2.4.tar.gz (131 kB)\n",
      "  Preparing metadata (setup.py) ... \u001b[?25lerror\n",
      "  \u001b[1;31merror\u001b[0m: \u001b[1msubprocess-exited-with-error\u001b[0m\n",
      "  \n",
      "  \u001b[31m×\u001b[0m \u001b[32mpython setup.py egg_info\u001b[0m did not run successfully.\n",
      "  \u001b[31m│\u001b[0m exit code: \u001b[1;36m1\u001b[0m\n",
      "  \u001b[31m╰─>\u001b[0m \u001b[31m[1 lines of output]\u001b[0m\n",
      "  \u001b[31m   \u001b[0m error in demjson setup command: use_2to3 is invalid.\n",
      "  \u001b[31m   \u001b[0m \u001b[31m[end of output]\u001b[0m\n",
      "  \n",
      "  \u001b[1;35mnote\u001b[0m: This error originates from a subprocess, and is likely not a problem with pip.\n",
      "\u001b[1;31merror\u001b[0m: \u001b[1mmetadata-generation-failed\u001b[0m\n",
      "\n",
      "\u001b[31m×\u001b[0m Encountered error while generating package metadata.\n",
      "\u001b[31m╰─>\u001b[0m See above for output.\n",
      "\n",
      "\u001b[1;35mnote\u001b[0m: This is an issue with the package mentioned above, not pip.\n",
      "\u001b[1;36mhint\u001b[0m: See above for details.\n",
      "\u001b[?25hNote: you may need to restart the kernel to use updated packages.\n"
     ]
    }
   ],
   "source": [
    "pip install python-csv"
   ]
  },
  {
   "cell_type": "code",
   "execution_count": 2,
   "id": "b2cb4013-9ecb-4394-9056-e561ef04ae40",
   "metadata": {},
   "outputs": [
    {
     "ename": "SyntaxError",
     "evalue": "invalid syntax (1264939758.py, line 1)",
     "output_type": "error",
     "traceback": [
      "\u001b[0;36m  Cell \u001b[0;32mIn[2], line 1\u001b[0;36m\u001b[0m\n\u001b[0;31m    conda install opencv-python\u001b[0m\n\u001b[0m          ^\u001b[0m\n\u001b[0;31mSyntaxError\u001b[0m\u001b[0;31m:\u001b[0m invalid syntax\n"
     ]
    }
   ],
   "source": [
    "conda install opencv-python"
   ]
  },
  {
   "cell_type": "code",
   "execution_count": 9,
   "id": "b271487e-959f-49e2-bd58-a8a4b0046d6b",
   "metadata": {},
   "outputs": [
    {
     "name": "stdout",
     "output_type": "stream",
     "text": [
      "Channels:\n",
      " - defaults\n",
      "Platform: osx-arm64\n",
      "Collecting package metadata (repodata.json): done\n",
      "Solving environment: failed\n",
      "\n",
      "PackagesNotFoundError: The following packages are not available from current channels:\n",
      "\n",
      "  - cv2\n",
      "\n",
      "Current channels:\n",
      "\n",
      "  - defaults\n",
      "  - https://repo.anaconda.com/pkgs/main\n",
      "  - https://repo.anaconda.com/pkgs/r\n",
      "\n",
      "To search for alternate channels that may provide the conda package you're\n",
      "looking for, navigate to\n",
      "\n",
      "    https://anaconda.org\n",
      "\n",
      "and use the search bar at the top of the page.\n",
      "\n",
      "\n",
      "\n",
      "Note: you may need to restart the kernel to use updated packages.\n"
     ]
    }
   ],
   "source": [
    "conda install cv2"
   ]
  },
  {
   "cell_type": "code",
   "execution_count": 11,
   "id": "6b880728-13c8-4ab3-99ab-846d20db28b7",
   "metadata": {},
   "outputs": [
    {
     "name": "stdout",
     "output_type": "stream",
     "text": [
      "Channels:\n",
      " - defaults\n",
      "Platform: osx-arm64\n",
      "Collecting package metadata (repodata.json): done\n",
      "Solving environment: failed\n",
      "\n",
      "PackagesNotFoundError: The following packages are not available from current channels:\n",
      "\n",
      "  - csv\n",
      "\n",
      "Current channels:\n",
      "\n",
      "  - defaults\n",
      "  - https://repo.anaconda.com/pkgs/main\n",
      "  - https://repo.anaconda.com/pkgs/r\n",
      "\n",
      "To search for alternate channels that may provide the conda package you're\n",
      "looking for, navigate to\n",
      "\n",
      "    https://anaconda.org\n",
      "\n",
      "and use the search bar at the top of the page.\n",
      "\n",
      "\n",
      "\n",
      "Note: you may need to restart the kernel to use updated packages.\n"
     ]
    }
   ],
   "source": [
    "conda install CSV"
   ]
  },
  {
   "cell_type": "markdown",
   "id": "ac045d45-a50a-447e-90f4-d2fbebc66f22",
   "metadata": {
    "scrolled": true
   },
   "source": [
    "# python3 -m pip install --upgrade pip \n",
    "python3 -m pip install opencv-python\n",
    "python3 -m pip install opencv-python-headless\n",
    "python3 -m pip install opencv-contrib-python-headless\n",
    "\n",
    "# python3 -m pip install --no-binary opencv-python opencv-python\n",
    "# python3 -m pip install --no-binary :all: opencv-python\n"
   ]
  },
  {
   "cell_type": "code",
   "execution_count": 61,
   "id": "bb40fec1-f2e9-4931-944b-c6c0962d70f8",
   "metadata": {},
   "outputs": [],
   "source": [
    "import os\n",
    "from pathlib import Path"
   ]
  },
  {
   "cell_type": "code",
   "execution_count": 33,
   "id": "56423f9b-a284-478f-9f4a-05dccff457ba",
   "metadata": {},
   "outputs": [],
   "source": [
    "import cv2\n",
    "import numpy as np\n",
    "import pandas as pd\n",
    "import matplotlib.pyplot as plt\n",
    "import csv"
   ]
  },
  {
   "cell_type": "code",
   "execution_count": 43,
   "id": "187f7189-bd27-41eb-a0fa-8a217daa16be",
   "metadata": {},
   "outputs": [],
   "source": [
    "try:\n",
    "    from PIL import Image\n",
    "except Importerror:\n",
    "    import Image"
   ]
  },
  {
   "cell_type": "code",
   "execution_count": 53,
   "id": "cfb1b2ca-7d13-439d-a8d3-bae50373b386",
   "metadata": {},
   "outputs": [
    {
     "name": "stdout",
     "output_type": "stream",
     "text": [
      "Collecting pytesseract\n",
      "  Using cached pytesseract-0.3.13-py3-none-any.whl.metadata (11 kB)\n",
      "Requirement already satisfied: packaging>=21.3 in /opt/anaconda3/lib/python3.12/site-packages (from pytesseract) (24.1)\n",
      "Requirement already satisfied: Pillow>=8.0.0 in /opt/anaconda3/lib/python3.12/site-packages (from pytesseract) (10.4.0)\n",
      "Using cached pytesseract-0.3.13-py3-none-any.whl (14 kB)\n",
      "Installing collected packages: pytesseract\n",
      "Successfully installed pytesseract-0.3.13\n",
      "Note: you may need to restart the kernel to use updated packages.\n"
     ]
    }
   ],
   "source": [
    "pip install pytesseract"
   ]
  },
  {
   "cell_type": "code",
   "execution_count": 55,
   "id": "ab9572cb-2b73-41c0-bf48-7afcf0c37734",
   "metadata": {},
   "outputs": [],
   "source": [
    "# import tesseract-ocr\n",
    "import pytesseract"
   ]
  },
  {
   "cell_type": "code",
   "execution_count": 63,
   "id": "579f97ea-22ba-4098-8f64-93aa967d48a4",
   "metadata": {},
   "outputs": [
    {
     "data": {
      "text/plain": [
       "(89, 576)"
      ]
     },
     "execution_count": 63,
     "metadata": {},
     "output_type": "execute_result"
    }
   ],
   "source": [
    "#read your file\n",
    "desktop_path = str(Path.home() / \"Desktop\")\n",
    "os.chdir(desktop_path)\n",
    "\n",
    "file=r'Image.webp'\n",
    "img = cv2.imread(file,0)\n",
    "img.shape"
   ]
  },
  {
   "cell_type": "code",
   "execution_count": 105,
   "id": "d01602d7-0e4e-4e91-960f-d3877cb58fa0",
   "metadata": {},
   "outputs": [
    {
     "name": "stdout",
     "output_type": "stream",
     "text": [
      "\u001b[31mERROR: Could not find a version that satisfies the requirement google-colab-patches (from versions: none)\u001b[0m\u001b[31m\n",
      "\u001b[0m\u001b[31mERROR: No matching distribution found for google-colab-patches\u001b[0m\u001b[31m\n",
      "\u001b[0mNote: you may need to restart the kernel to use updated packages.\n"
     ]
    }
   ],
   "source": [
    "pip install google-colab-patches"
   ]
  },
  {
   "cell_type": "code",
   "execution_count": 117,
   "id": "deecd297-4617-45b0-843a-8d69fec7a30d",
   "metadata": {},
   "outputs": [
    {
     "ename": "ModuleNotFoundError",
     "evalue": "No module named 'google.colab'",
     "output_type": "error",
     "traceback": [
      "\u001b[0;31m---------------------------------------------------------------------------\u001b[0m",
      "\u001b[0;31mModuleNotFoundError\u001b[0m                       Traceback (most recent call last)",
      "Cell \u001b[0;32mIn[117], line 1\u001b[0m\n\u001b[0;32m----> 1\u001b[0m \u001b[38;5;28;01mfrom\u001b[39;00m \u001b[38;5;21;01mgoogle\u001b[39;00m\u001b[38;5;21;01m.\u001b[39;00m\u001b[38;5;21;01mcolab\u001b[39;00m\u001b[38;5;21;01m.\u001b[39;00m\u001b[38;5;21;01mpatches\u001b[39;00m \u001b[38;5;28;01mimport\u001b[39;00m cv2_imshow\n\u001b[1;32m      2\u001b[0m file\u001b[38;5;241m=\u001b[39m\u001b[38;5;124mr\u001b[39m\u001b[38;5;124m'\u001b[39m\u001b[38;5;124mImage.webp\u001b[39m\u001b[38;5;124m'\u001b[39m\n\u001b[1;32m      3\u001b[0m cv2_imshow(img)\n",
      "\u001b[0;31mModuleNotFoundError\u001b[0m: No module named 'google.colab'"
     ]
    }
   ],
   "source": [
    "from google.colab.patches import cv2_imshow\n",
    "file=r'Image.webp'\n",
    "cv2_imshow(img)"
   ]
  },
  {
   "cell_type": "code",
   "execution_count": 111,
   "id": "52d4d6cf-1e7b-47a1-af9f-114f5c2a2617",
   "metadata": {},
   "outputs": [
    {
     "ename": "NameError",
     "evalue": "name 'CV2' is not defined",
     "output_type": "error",
     "traceback": [
      "\u001b[0;31m---------------------------------------------------------------------------\u001b[0m",
      "\u001b[0;31mNameError\u001b[0m                                 Traceback (most recent call last)",
      "Cell \u001b[0;32mIn[111], line 2\u001b[0m\n\u001b[1;32m      1\u001b[0m \u001b[38;5;66;03m#thresholding the image to a binary image\u001b[39;00m\n\u001b[0;32m----> 2\u001b[0m thresh, img_bin \u001b[38;5;241m=\u001b[39m cv2\u001b[38;5;241m.\u001b[39m threshold (img, \u001b[38;5;241m128\u001b[39m,\u001b[38;5;241m255\u001b[39m, cv2\u001b[38;5;241m.\u001b[39m THRESH_BINARY \u001b[38;5;241m|\u001b[39m CV2\u001b[38;5;241m.\u001b[39m THRESH_OTSU)\n",
      "\u001b[0;31mNameError\u001b[0m: name 'CV2' is not defined"
     ]
    }
   ],
   "source": [
    "#thresholding the image to a binary image\n",
    "thresh, img_bin = cv2.threshold(img, 128,255, cv2.THRESH_BINARY | cv2.THRESH_OTSU)"
   ]
  },
  {
   "cell_type": "code",
   "execution_count": null,
   "id": "31a4f334-7477-43a1-badf-2a00b44dfdb1",
   "metadata": {},
   "outputs": [],
   "source": [
    "#inverting the image\n",
    "img bin = 255-img bin\n",
    "cv2. imwrite('cv_inverted.png',img _bin)"
   ]
  },
  {
   "cell_type": "code",
   "execution_count": null,
   "id": "8e483711-2efa-4586-ae93-27ae570c3569",
   "metadata": {},
   "outputs": [],
   "source": [
    "#Plotting the image to see the output\n",
    "plotting = plt.imshow(img_bin, cmap='gray')\n",
    "plt. show()"
   ]
  },
  {
   "cell_type": "code",
   "execution_count": null,
   "id": "342905b5-53b9-446e-9782-5b2f43f247a1",
   "metadata": {},
   "outputs": [],
   "source": [
    "# countcol(width) of kernel as 100th of total width\n",
    "kernel_len = np.array(img) .shape[1]//100"
   ]
  },
  {
   "cell_type": "code",
   "execution_count": null,
   "id": "82b5f95b-fc90-49b5-b9c1-ec79a254096d",
   "metadata": {},
   "outputs": [],
   "source": [
    "# Defining a vertical kernel to detect all vertical lines of image\n",
    "ver_kernel = cv2.getStructuringElement(cv2.MORPH_RECT, (1, kernel_len) )"
   ]
  },
  {
   "cell_type": "code",
   "execution_count": null,
   "id": "5aede477-2e3d-46df-a4ed-01149b5b34b3",
   "metadata": {},
   "outputs": [],
   "source": [
    "# Defining a horizontal kernel to detect all horizontal lines of image\n",
    "hor_kernel = cv2.getStructuringElement(cv2.MORPH_RECT, (kernel_len, 1))"
   ]
  },
  {
   "cell_type": "code",
   "execution_count": null,
   "id": "5efec8f3-1745-4bc7-ac23-36d2827d0f4f",
   "metadata": {},
   "outputs": [],
   "source": [
    "# A kernel of 2x2\n",
    "kernel = cv2. getStructuringElement (cv2.MORPH_RECT, (2, 2))"
   ]
  },
  {
   "cell_type": "code",
   "execution_count": null,
   "id": "055c43f8-d340-4df5-ba3d-2033c6de45c8",
   "metadata": {},
   "outputs": [],
   "source": [
    "#Use vertical kernel to detect and save the vertical lines in a jpg\n",
    "image_1 = cvz.erode(img_bin, ver_kernel, iterations=3)\n",
    "vertical_lines = cv2. dilate(image_1, ver _kernel, iterations=3)\n",
    "cv2. inwrite(\"vertical.jpg\", vertical_lines)"
   ]
  },
  {
   "cell_type": "code",
   "execution_count": null,
   "id": "7cbda9d9-23c4-4395-b065-c212f6a21c08",
   "metadata": {},
   "outputs": [],
   "source": [
    "#Plot the generated image\n",
    "plotting = plt. imshow(image_1, cmap='gray')\n",
    "plt. show()"
   ]
  },
  {
   "cell_type": "code",
   "execution_count": null,
   "id": "3281b491-81ef-4a2a-88a4-7a00c96563ee",
   "metadata": {},
   "outputs": [],
   "source": [
    "#Use horizontal kernel to detect and save the horizontal lines in a jpg\n",
    "image_2 = cv2.erode(img_bin, hor_kernel, iterations=3)\n",
    "horizontal_lines = cv2. dilate(image_2, hor_kernel, iterations=3)\n",
    "cv2. imwrite(\"horizontal.jpg\", horizontal_lines)"
   ]
  },
  {
   "cell_type": "code",
   "execution_count": null,
   "id": "aa1a5273-9988-443b-95e0-2a568c420b76",
   "metadata": {},
   "outputs": [],
   "source": [
    "#Plot the generated image\n",
    "plotting = plt. imshow(image_2, cmap='gray')\n",
    "plt.show()"
   ]
  },
  {
   "cell_type": "code",
   "execution_count": null,
   "id": "881a6441-4d44-458c-bc02-3d805cbdf5d5",
   "metadata": {},
   "outputs": [],
   "source": [
    "# Combine horizontal and vertical lines in a new third image, with both having same weight.\n",
    "img _vh = cv2. addweighted (vertical_lines, 0.5, horizontal_lines, 0.5, 0.0)"
   ]
  },
  {
   "cell_type": "code",
   "execution_count": null,
   "id": "cdeedaf9-6af1-4b38-9d11-c3fa44cfb961",
   "metadata": {},
   "outputs": [],
   "source": [
    "#Eroding and thesholding the image\n",
    "img_h = cv2. erode(-img_vh, kernel, iterations=2)\n",
    "thresh, img_h = cv2. threshold (img_vh, 128,255, CV2. THRESH _BINARY | C2. THRESH_OTSU)\n",
    "cv2. imwrite(\"img_vh.jpg\", img_ vh)\n",
    "bitxor = cv2. bitwise_xor(img,img_vh)\n",
    "bitnot = cv2.bitwise not(bitxor)"
   ]
  },
  {
   "cell_type": "code",
   "execution_count": null,
   "id": "cb2f16f3-9277-4234-b2d6-413cdfdfbb33",
   "metadata": {},
   "outputs": [],
   "source": [
    "#Plotting the generated image\n",
    "plotting = plt. imshow(bitnot, cmap='gray')\n",
    "plt.show()"
   ]
  },
  {
   "cell_type": "code",
   "execution_count": null,
   "id": "42f4f407-3521-4d5e-9382-4515c07088e6",
   "metadata": {},
   "outputs": [],
   "source": [
    "# Detect contours for following box detection\n",
    "contours, hierarchy = cv2.findContours(img_vh, cv2.RETR_TREE, CV2.CHAIN_APPROX_SIMPLE)"
   ]
  },
  {
   "cell_type": "code",
   "execution_count": null,
   "id": "fd8cc6b4-bba4-47d0-b252-404b31137fcf",
   "metadata": {},
   "outputs": [],
   "source": [
    "def sort contours(cnts, method=\"left-to-right\"):\n",
    "    # initialize the reverse flag and sort index\n",
    "    reverse = False\n",
    "    i = 0\n",
    "    \n",
    "    # handle if we need to sort in reverse\n",
    "    if method == \"right-to-left\" or method == \"bottom-to-top\":\n",
    "        reverse = True\n",
    "    \n",
    "    # handle if we are sorting against the y-coordinate rather than the x-coordinate of the bounding box\n",
    "    if method == \"top-to-bottom\" or method == \"bottom-to-top\":\n",
    "        i = 1\n",
    "    \n",
    "    # construct the list of bounding boxes and sort them from top to bottom\n",
    "    boundingBoxes = [cv2.boundingRect(c) for c in cnts]\n",
    "    (cnts, boundingBoxes) = zip(*sorted(zip(cnts, boundingBoxes), key=lambda b:b[1][i], reverse=reverse))\n",
    "    \n",
    "    # return the list of sorted contours and bounding boxes\n",
    "    return (cnts, boundingBoxes)"
   ]
  },
  {
   "cell_type": "code",
   "execution_count": null,
   "id": "b4e12908-a8aa-4f40-bde8-60d2c622903e",
   "metadata": {},
   "outputs": [],
   "source": [
    "# Sort all the contours by top to bottom.\n",
    "contours, boundingBoxes = sort_contours(contours, method=\"top-to-bottom\")\n",
    "\n",
    "#Creating a list of heights for all detected boxes\n",
    "heights = [boundingBoxes[i](3) for i in range(len(boundingBoxes))]\n",
    "\n",
    "#Get mean of heights\n",
    "mean = np.mean(heights)\n",
    "\n",
    "#Create list box to store all boxes in\n",
    "box = []"
   ]
  },
  {
   "cell_type": "code",
   "execution_count": null,
   "id": "8d685570-bc9b-4dc1-b35e-5837f6084cc3",
   "metadata": {},
   "outputs": [],
   "source": [
    "# Get position (x,y), width and height for every contour and show the contour on image\n",
    "for c in contours:\n",
    "    x, y, w, h = cv2.boundingRect(c)\n",
    "    if (w<1000 and h<500):\n",
    "        image = cv2.rectangle(img, (x,y),(x+w,y+h), (0,255,0) ,2)\n",
    "        box. append([x,y,w,h])\n",
    "\n",
    "plotting = plt.imshow(image, cmap='gray')\n",
    "plt.show()"
   ]
  },
  {
   "cell_type": "code",
   "execution_count": null,
   "id": "9ba146c6-d59f-4375-b85f-7b377d3f597a",
   "metadata": {},
   "outputs": [],
   "source": [
    "#Creating two lists to define row and column in which cell is located\n",
    "row=[]\n",
    "column=[]\n",
    "j=0"
   ]
  },
  {
   "cell_type": "code",
   "execution_count": null,
   "id": "11d7976f-bc57-44a0-9e3c-550a3a1d01d8",
   "metadata": {},
   "outputs": [],
   "source": [
    "#Sorting the boxes to their respective row and column\n",
    "for 1 in range(len(box)):\n",
    "    \n",
    "    if(i==0):\n",
    "        column. append(box[i])\n",
    "        previous=box[i]\n",
    "        \n",
    "    else:\n",
    "        if(box[i][1]<=previous[1]+mean/2):\n",
    "            column.append(box[i])\n",
    "            previous=box[i]\n",
    "        \n",
    "            if(i==len(box)-1):\n",
    "                row.append(column)\n",
    "        \n",
    "        else:\n",
    "            row.append(column)\n",
    "            coLumn=[]\n",
    "            previous = box[i]\n",
    "            column.appent(box[i])\n",
    "\n",
    "print(column)\n",
    "print(row)"
   ]
  },
  {
   "cell_type": "code",
   "execution_count": null,
   "id": "3566616d-fb6d-4bbc-9ffb-1d7e3238b93f",
   "metadata": {},
   "outputs": [],
   "source": [
    "#calculating maximum number of cells\n",
    "countcol = 0\n",
    "for i in range (len(row) ):\n",
    "    countcol = len (row[i))\n",
    "    if countcol > countcol:\n",
    "        countcol = countcol"
   ]
  },
  {
   "cell_type": "code",
   "execution_count": null,
   "id": "9fd59567-7530-4aae-a444-500093e7abed",
   "metadata": {},
   "outputs": [],
   "source": [
    "#Retrieving the center of each column\n",
    "center = [int(row[i][j][0]+row[i][j][2]/2) for j in range(len(row[i])) if row[0]]\n",
    "\n",
    "center=np.array(center)\n",
    "center.sort()\n",
    "print(center)"
   ]
  },
  {
   "cell_type": "code",
   "execution_count": null,
   "id": "29655e12-6a7a-42a2-9f7f-2533a88b8766",
   "metadata": {},
   "outputs": [],
   "source": [
    "#Regarding the distance to the columns center, the boxes are arranged in respective order\n",
    "finalboxes = []\n",
    "for i in range(len(row)):\n",
    "    lis=[]\n",
    "\n",
    "    for k in range(countcol):\n",
    "    lis.append([])\n",
    "    \n",
    "    for j in range(len(row[i])):\n",
    "        diff = abs(center-(row[i][j][0]+row[i][j][2]/4))\n",
    "        minimum = min(diff)\n",
    "        indexing = list(diff) index(minimum)\n",
    "        lis[indexing].append(row[i][j])\n",
    "\n",
    "    finalboxes.append(lis)"
   ]
  },
  {
   "cell_type": "code",
   "execution_count": null,
   "id": "67252465-21bf-4e20-8b53-4ebd1278c4a2",
   "metadata": {},
   "outputs": [],
   "source": [
    "#from every single image-based cell/box the strings are extracted via pytesseract and stored in a list outer=[]\n",
    "for 1 in range(len(finalboxes)):\n",
    "    for j in range(len(finalboxes[i])):\n",
    "        inner=''\n",
    "        \n",
    "        if(len(finalboxes[i][j])==0):\n",
    "            outer.append(' ')\n",
    "        \n",
    "        else:\n",
    "            for k in range(len(finalboxes [i](j])):\n",
    "                y,x,w,h = finalboxes[i][j][k][0],finalboxes[i][j[k][1]. finalboxes[i][j][k][2].finalboxes[i][j][k][3]\n",
    "                finalimg = bitnot[x:x+h, y:y+w]\n",
    "                kernel = cv2.getStructuringElement(cv2.MORPH_RECT, (2, 1))\n",
    "                border = cv2.copyMakeBorder(finalimg, 2,2,2,2, CV2.BORDER_CONSTANT, value= [255,255])\n",
    "                resizing = cv2.resize(border, None, fx=2, fy=2, interpolation=cv2.INTER_CUBIC)\n",
    "                dilation = cv2.dilate(resizing, kernel, iterations=1)\n",
    "                erosion = cv2.erode(dilation, kernel,iterations=2)\n",
    "                \n",
    "                out = pytesseract.image_to_string(erosion)\n",
    "                \n",
    "                if(len(out)==0):\n",
    "                    out = pytesseract.image_to_string(erosion, config='--psm 3')\n",
    "                inner = inner + \" \" + out\n",
    "            outer.append(inner)\n",
    "            \n",
    "#Creating a dataframe of the generated OCR list\n",
    "arr = np.array(outer)\n",
    "\n",
    "dataframe = pd. DataFrame(arr.reshape(len(row), countcol))\n",
    "print(dataframe)\n",
    "\n",
    "data = dataframe.style.set_properties(align=\"left\")"
   ]
  },
  {
   "cell_type": "code",
   "execution_count": null,
   "id": "b1f275c8-06be-4acc-9e2a-e5e2caae6a68",
   "metadata": {},
   "outputs": [],
   "source": [
    "# Converting it in a excel-file\n",
    "# data.to excel(\"/Users/marius/Desktop/output.xlsx\")"
   ]
  },
  {
   "cell_type": "code",
   "execution_count": null,
   "id": "4588b476-da55-4e49-a8a0-d5440ae0f93c",
   "metadata": {},
   "outputs": [],
   "source": [
    "dataframes.columns"
   ]
  },
  {
   "cell_type": "code",
   "execution_count": null,
   "id": "9f879dc3-4a19-41c9-b71b-59f0282c2bc4",
   "metadata": {},
   "outputs": [],
   "source": []
  }
 ],
 "metadata": {
  "kernelspec": {
   "display_name": "Python [conda env:base] *",
   "language": "python",
   "name": "conda-base-py"
  },
  "language_info": {
   "codemirror_mode": {
    "name": "ipython",
    "version": 3
   },
   "file_extension": ".py",
   "mimetype": "text/x-python",
   "name": "python",
   "nbconvert_exporter": "python",
   "pygments_lexer": "ipython3",
   "version": "3.12.7"
  }
 },
 "nbformat": 4,
 "nbformat_minor": 5
}
